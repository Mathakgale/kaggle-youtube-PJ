{
 "cells": [
  {
   "cell_type": "markdown",
   "id": "38492724",
   "metadata": {},
   "source": [
    "####  Author: Mathakgale Elmus Mohale\n",
    "#### Start date: 24 Jan 2022\n",
    "#### kaggle link https://www.kaggle.com/c/kaggle-pog-series-s01e01/data\n",
    "\n",
    "# Title : Youtube Video View Count Prediction\n",
    "\n",
    "## Introduction\n",
    "```\n",
    "The aim of this project is to predict the like to view_count ratio of youtube videos based on the title, description, thumbnail and additional metadata.\n",
    "```"
   ]
  },
  {
   "cell_type": "markdown",
   "id": "2ce60f09",
   "metadata": {},
   "source": [
    "#### Imports and reading data"
   ]
  },
  {
   "cell_type": "code",
   "execution_count": 62,
   "id": "cebc724a",
   "metadata": {},
   "outputs": [],
   "source": [
    "import matplotlib.pyplot as plt\n",
    "import seaborn as sns\n",
    "import pandas as pd \n",
    "import numpy as np\n",
    "\n",
    "%matplotlib inline"
   ]
  },
  {
   "cell_type": "code",
   "execution_count": 63,
   "id": "4bae2064",
   "metadata": {},
   "outputs": [],
   "source": [
    "test_df= pd.read_parquet('test.parquet')\n",
    "train_df= pd.read_parquet('train.parquet')"
   ]
  },
  {
   "cell_type": "markdown",
   "id": "d252b62d",
   "metadata": {},
   "source": [
    "#### Data Exploreration"
   ]
  },
  {
   "cell_type": "code",
   "execution_count": 64,
   "id": "5a0709b1",
   "metadata": {},
   "outputs": [
    {
     "name": "stdout",
     "output_type": "stream",
     "text": [
      "train shape:  (92275, 20)\n",
      "test shape:  (5800, 16)\n"
     ]
    }
   ],
   "source": [
    "# Checking the shape of data\n",
    "train_shape=train_df.shape\n",
    "test_shape=test_df.shape\n",
    "print('train shape: ',train_shape)\n",
    "print('test shape: ',test_shape)"
   ]
  },
  {
   "cell_type": "markdown",
   "id": "9ed947dc",
   "metadata": {},
   "source": [
    "It can be seen that there is a missing 4 missing features on the testing data"
   ]
  },
  {
   "cell_type": "code",
   "execution_count": 65,
   "id": "bade9275",
   "metadata": {},
   "outputs": [
    {
     "name": "stdout",
     "output_type": "stream",
     "text": [
      "train:   Index(['video_id', 'title', 'publishedAt', 'channelId', 'channelTitle',\n",
      "       'categoryId', 'trending_date', 'tags', 'view_count', 'likes',\n",
      "       'dislikes', 'comment_count', 'thumbnail_link', 'comments_disabled',\n",
      "       'ratings_disabled', 'description', 'id', 'duration_seconds',\n",
      "       'has_thumbnail', 'target'],\n",
      "      dtype='object')\n",
      "testing:  Index(['video_id', 'title', 'publishedAt', 'channelId', 'channelTitle',\n",
      "       'categoryId', 'trending_date', 'tags', 'thumbnail_link',\n",
      "       'comments_disabled', 'ratings_disabled', 'description', 'id',\n",
      "       'duration_seconds', 'has_thumbnail', 'isTest'],\n",
      "      dtype='object')\n"
     ]
    }
   ],
   "source": [
    "train_ft=train_df.columns\n",
    "test_ft=test_df.columns\n",
    "\n",
    "print('train:  ',train_ft)\n",
    "print('testing: ',test_ft)"
   ]
  },
  {
   "cell_type": "markdown",
   "id": "eb02bb50",
   "metadata": {},
   "source": [
    "The following : `'view_count', 'likes','dislikes', 'comment_count'` are missing ng in the test data"
   ]
  },
  {
   "cell_type": "code",
   "execution_count": 66,
   "id": "e9067680",
   "metadata": {},
   "outputs": [
    {
     "data": {
      "text/html": [
       "<div>\n",
       "<style scoped>\n",
       "    .dataframe tbody tr th:only-of-type {\n",
       "        vertical-align: middle;\n",
       "    }\n",
       "\n",
       "    .dataframe tbody tr th {\n",
       "        vertical-align: top;\n",
       "    }\n",
       "\n",
       "    .dataframe thead th {\n",
       "        text-align: right;\n",
       "    }\n",
       "</style>\n",
       "<table border=\"1\" class=\"dataframe\">\n",
       "  <thead>\n",
       "    <tr style=\"text-align: right;\">\n",
       "      <th></th>\n",
       "      <th>video_id</th>\n",
       "      <th>title</th>\n",
       "      <th>publishedAt</th>\n",
       "      <th>channelId</th>\n",
       "      <th>channelTitle</th>\n",
       "      <th>categoryId</th>\n",
       "      <th>trending_date</th>\n",
       "      <th>tags</th>\n",
       "      <th>view_count</th>\n",
       "      <th>likes</th>\n",
       "      <th>...</th>\n",
       "      <th>comment_count</th>\n",
       "      <th>thumbnail_link</th>\n",
       "      <th>comments_disabled</th>\n",
       "      <th>ratings_disabled</th>\n",
       "      <th>description</th>\n",
       "      <th>id</th>\n",
       "      <th>duration_seconds</th>\n",
       "      <th>has_thumbnail</th>\n",
       "      <th>target</th>\n",
       "      <th>isTest</th>\n",
       "    </tr>\n",
       "  </thead>\n",
       "  <tbody>\n",
       "    <tr>\n",
       "      <th>0</th>\n",
       "      <td>3C66w5Z0ixs</td>\n",
       "      <td>I ASKED HER TO BE MY GIRLFRIEND...</td>\n",
       "      <td>2020-08-11 19:20:14+00:00</td>\n",
       "      <td>UCvtRTOMP2TqYqu51xNrqAzg</td>\n",
       "      <td>Brawadis</td>\n",
       "      <td>22</td>\n",
       "      <td>2020-08-12</td>\n",
       "      <td>brawadis|prank|basketball|skits|ghost|funny vi...</td>\n",
       "      <td>1514614.0</td>\n",
       "      <td>156908.0</td>\n",
       "      <td>...</td>\n",
       "      <td>35313.0</td>\n",
       "      <td>https://i.ytimg.com/vi/3C66w5Z0ixs/default.jpg</td>\n",
       "      <td>False</td>\n",
       "      <td>False</td>\n",
       "      <td>SUBSCRIBE to BRAWADIS ▶ http://bit.ly/Subscrib...</td>\n",
       "      <td>3C66w5Z0ixs_2020-08-12</td>\n",
       "      <td>NaN</td>\n",
       "      <td>True</td>\n",
       "      <td>0.103596</td>\n",
       "      <td>False</td>\n",
       "    </tr>\n",
       "    <tr>\n",
       "      <th>1</th>\n",
       "      <td>M9Pmf9AB4Mo</td>\n",
       "      <td>Apex Legends | Stories from the Outlands – “Th...</td>\n",
       "      <td>2020-08-11 17:00:10+00:00</td>\n",
       "      <td>UC0ZV6M2THA81QT9hrVWJG3A</td>\n",
       "      <td>Apex Legends</td>\n",
       "      <td>20</td>\n",
       "      <td>2020-08-12</td>\n",
       "      <td>Apex Legends|Apex Legends characters|new Apex ...</td>\n",
       "      <td>2381688.0</td>\n",
       "      <td>146739.0</td>\n",
       "      <td>...</td>\n",
       "      <td>16549.0</td>\n",
       "      <td>https://i.ytimg.com/vi/M9Pmf9AB4Mo/default.jpg</td>\n",
       "      <td>False</td>\n",
       "      <td>False</td>\n",
       "      <td>While running her own modding shop, Ramya Pare...</td>\n",
       "      <td>M9Pmf9AB4Mo_2020-08-12</td>\n",
       "      <td>NaN</td>\n",
       "      <td>True</td>\n",
       "      <td>0.061611</td>\n",
       "      <td>False</td>\n",
       "    </tr>\n",
       "    <tr>\n",
       "      <th>2</th>\n",
       "      <td>J78aPJ3VyNs</td>\n",
       "      <td>I left youtube for a month and THIS is what ha...</td>\n",
       "      <td>2020-08-11 16:34:06+00:00</td>\n",
       "      <td>UCYzPXprvl5Y-Sf0g4vX-m6g</td>\n",
       "      <td>jacksepticeye</td>\n",
       "      <td>24</td>\n",
       "      <td>2020-08-12</td>\n",
       "      <td>jacksepticeye|funny|funny meme|memes|jacksepti...</td>\n",
       "      <td>2038853.0</td>\n",
       "      <td>353787.0</td>\n",
       "      <td>...</td>\n",
       "      <td>40221.0</td>\n",
       "      <td>https://i.ytimg.com/vi/J78aPJ3VyNs/default.jpg</td>\n",
       "      <td>False</td>\n",
       "      <td>False</td>\n",
       "      <td>I left youtube for a month and this is what ha...</td>\n",
       "      <td>J78aPJ3VyNs_2020-08-12</td>\n",
       "      <td>NaN</td>\n",
       "      <td>True</td>\n",
       "      <td>0.173523</td>\n",
       "      <td>False</td>\n",
       "    </tr>\n",
       "  </tbody>\n",
       "</table>\n",
       "<p>3 rows × 21 columns</p>\n",
       "</div>"
      ],
      "text/plain": [
       "      video_id                                              title  \\\n",
       "0  3C66w5Z0ixs                 I ASKED HER TO BE MY GIRLFRIEND...   \n",
       "1  M9Pmf9AB4Mo  Apex Legends | Stories from the Outlands – “Th...   \n",
       "2  J78aPJ3VyNs  I left youtube for a month and THIS is what ha...   \n",
       "\n",
       "                publishedAt                 channelId   channelTitle  \\\n",
       "0 2020-08-11 19:20:14+00:00  UCvtRTOMP2TqYqu51xNrqAzg       Brawadis   \n",
       "1 2020-08-11 17:00:10+00:00  UC0ZV6M2THA81QT9hrVWJG3A   Apex Legends   \n",
       "2 2020-08-11 16:34:06+00:00  UCYzPXprvl5Y-Sf0g4vX-m6g  jacksepticeye   \n",
       "\n",
       "   categoryId trending_date  \\\n",
       "0          22    2020-08-12   \n",
       "1          20    2020-08-12   \n",
       "2          24    2020-08-12   \n",
       "\n",
       "                                                tags  view_count     likes  \\\n",
       "0  brawadis|prank|basketball|skits|ghost|funny vi...   1514614.0  156908.0   \n",
       "1  Apex Legends|Apex Legends characters|new Apex ...   2381688.0  146739.0   \n",
       "2  jacksepticeye|funny|funny meme|memes|jacksepti...   2038853.0  353787.0   \n",
       "\n",
       "   ...  comment_count                                  thumbnail_link  \\\n",
       "0  ...        35313.0  https://i.ytimg.com/vi/3C66w5Z0ixs/default.jpg   \n",
       "1  ...        16549.0  https://i.ytimg.com/vi/M9Pmf9AB4Mo/default.jpg   \n",
       "2  ...        40221.0  https://i.ytimg.com/vi/J78aPJ3VyNs/default.jpg   \n",
       "\n",
       "  comments_disabled  ratings_disabled  \\\n",
       "0             False             False   \n",
       "1             False             False   \n",
       "2             False             False   \n",
       "\n",
       "                                         description                      id  \\\n",
       "0  SUBSCRIBE to BRAWADIS ▶ http://bit.ly/Subscrib...  3C66w5Z0ixs_2020-08-12   \n",
       "1  While running her own modding shop, Ramya Pare...  M9Pmf9AB4Mo_2020-08-12   \n",
       "2  I left youtube for a month and this is what ha...  J78aPJ3VyNs_2020-08-12   \n",
       "\n",
       "  duration_seconds  has_thumbnail    target  isTest  \n",
       "0              NaN           True  0.103596   False  \n",
       "1              NaN           True  0.061611   False  \n",
       "2              NaN           True  0.173523   False  \n",
       "\n",
       "[3 rows x 21 columns]"
      ]
     },
     "execution_count": 66,
     "metadata": {},
     "output_type": "execute_result"
    }
   ],
   "source": [
    "train_df['isTest']=False\n",
    "df = pd.concat([train_df,test_df]).reset_index(drop = True).copy()\n",
    "df.head(3)\n"
   ]
  },
  {
   "cell_type": "code",
   "execution_count": 67,
   "id": "db1ff7f7",
   "metadata": {},
   "outputs": [
    {
     "data": {
      "text/plain": [
       "video_id                0\n",
       "title                   0\n",
       "publishedAt             0\n",
       "channelId               0\n",
       "channelTitle            0\n",
       "categoryId              0\n",
       "trending_date           0\n",
       "tags                    0\n",
       "view_count           5800\n",
       "likes                5800\n",
       "dislikes             5800\n",
       "comment_count        5800\n",
       "thumbnail_link          0\n",
       "comments_disabled       0\n",
       "ratings_disabled        0\n",
       "description          1885\n",
       "id                      0\n",
       "duration_seconds     2196\n",
       "has_thumbnail           0\n",
       "target               5800\n",
       "isTest                  0\n",
       "dtype: int64"
      ]
     },
     "execution_count": 67,
     "metadata": {},
     "output_type": "execute_result"
    }
   ],
   "source": [
    "df.isnull().sum()"
   ]
  },
  {
   "cell_type": "markdown",
   "id": "efc34e93",
   "metadata": {},
   "source": [
    "```\n",
    "From exploring the Data it can be seen that the data features: duration_seconds and description has null values. now they need to be filled with vales or removed or handled in other kind of way.\n",
    "```"
   ]
  },
  {
   "cell_type": "markdown",
   "id": "649d900b",
   "metadata": {},
   "source": [
    "#### Data cleaning"
   ]
  },
  {
   "cell_type": "code",
   "execution_count": 68,
   "id": "498936ce",
   "metadata": {},
   "outputs": [
    {
     "data": {
      "text/plain": [
       "(98075, 21)"
      ]
     },
     "execution_count": 68,
     "metadata": {},
     "output_type": "execute_result"
    }
   ],
   "source": [
    "df.shape"
   ]
  },
  {
   "cell_type": "code",
   "execution_count": 69,
   "id": "5c447ce2",
   "metadata": {},
   "outputs": [
    {
     "name": "stdout",
     "output_type": "stream",
     "text": [
      "0   NaN\n",
      "1   NaN\n",
      "2   NaN\n",
      "Name: duration_seconds, dtype: float64\n",
      "mean =  753.4124052190782\n"
     ]
    },
    {
     "data": {
      "text/plain": [
       "0"
      ]
     },
     "execution_count": 69,
     "metadata": {},
     "output_type": "execute_result"
    }
   ],
   "source": [
    "# This section of the code fills the missing duration rows with the mean duration\n",
    "print(df['duration_seconds'].head(3))\n",
    "mean = df['duration_seconds'].mean()\n",
    "print('mean = ',mean)\n",
    "df['duration_seconds'].fillna(mean, inplace=True)\n",
    "df['duration_seconds'].isnull().sum()"
   ]
  },
  {
   "cell_type": "code",
   "execution_count": 70,
   "id": "eb3824dc",
   "metadata": {},
   "outputs": [
    {
     "data": {
      "text/plain": [
       "0"
      ]
     },
     "execution_count": 70,
     "metadata": {},
     "output_type": "execute_result"
    }
   ],
   "source": [
    "# This code fills the missing descriptions\n",
    "df['description'].fillna('no description',inplace=True)\n",
    "df['description'].isnull().sum()"
   ]
  },
  {
   "cell_type": "markdown",
   "id": "d9265639",
   "metadata": {},
   "source": [
    "##### Removing usless feature "
   ]
  },
  {
   "cell_type": "code",
   "execution_count": 71,
   "id": "44c07f13",
   "metadata": {},
   "outputs": [
    {
     "data": {
      "text/plain": [
       "(98075, 13)"
      ]
     },
     "execution_count": 71,
     "metadata": {},
     "output_type": "execute_result"
    }
   ],
   "source": [
    "unused_ft=['video_id'  , 'view_count' ,  'dislikes', \n",
    "           'likes','comment_count' , 'thumbnail_link' , \n",
    "           'ratings_disabled' ,'comments_disabled']\n",
    "df=df.drop(unused_ft,axis=1)\n",
    "df.shape"
   ]
  },
  {
   "cell_type": "markdown",
   "id": "194c8730",
   "metadata": {},
   "source": [
    "### Feature Engineering"
   ]
  },
  {
   "cell_type": "code",
   "execution_count": 116,
   "id": "dc7060d6",
   "metadata": {},
   "outputs": [],
   "source": [
    "from sklearn.feature_extraction.text import CountVectorizer"
   ]
  },
  {
   "cell_type": "code",
   "execution_count": 142,
   "id": "c67f7635",
   "metadata": {},
   "outputs": [
    {
     "name": "stdout",
     "output_type": "stream",
     "text": [
      "0         16786\n",
      "1         25190\n",
      "2         26754\n",
      "3         26465\n",
      "4         31795\n",
      "          ...  \n",
      "98070    621049\n",
      "98071    704699\n",
      "98072    712789\n",
      "98073    550789\n",
      "98074    550769\n",
      "Length: 98075, dtype: int64\n"
     ]
    }
   ],
   "source": [
    "prep_df = df.copy()\n",
    "\n",
    "def tags_feature_extract(df):\n",
    "    tags=df['tags']\n",
    "    count_vect = CountVectorizer(tokenizer=lambda x: x)\n",
    "    tags=count_vect.fit_transform(tags)\n",
    "    tags= tags.toarray().sum(axis=1)\n",
    "    tags= pd.Series(tags)\n",
    "    return tags\n",
    "\n",
    "def delta_trend(df):\n",
    "    publish_date = pd.to_datetime(df['publishedAt'])\n",
    "    trend_date = pd.to_datetime(df['trending_date'],utc=True)\n",
    "    delta=(trend_date-publish_date).dt.total_seconds().astype('int')\n",
    "    return delta\n",
    "    \n",
    "#     print(tags)\n",
    "# prep_df.append(create_features(prep_df))\n",
    "prep_df['tags_rank']=tags_feature_extract(prep_df)\n",
    "prep_df['delta_trend']=delta_trend(prep_df)\n",
    "# prep_df.head(2)"
   ]
  },
  {
   "cell_type": "markdown",
   "id": "3f8faeb6",
   "metadata": {},
   "source": [
    "```\n",
    "Now that the null values are removed, we encode the categorial feature to numerical numbers\n",
    "```\n",
    "\n",
    "#### Encoding categorial features"
   ]
  },
  {
   "cell_type": "code",
   "execution_count": null,
   "id": "25782b84",
   "metadata": {},
   "outputs": [],
   "source": [
    "\n"
   ]
  },
  {
   "cell_type": "markdown",
   "id": "7dd7654c",
   "metadata": {},
   "source": [
    "### Data Visualization"
   ]
  },
  {
   "cell_type": "code",
   "execution_count": 74,
   "id": "c2ce900f",
   "metadata": {},
   "outputs": [],
   "source": [
    "train_df=prep_df[prep_df['isTest'] == False]\n",
    "test_df=prep_df[prep_df['isTest'] == True]\n",
    "y_train = train_df.pop('target')\n"
   ]
  },
  {
   "cell_type": "code",
   "execution_count": 75,
   "id": "e25219f8",
   "metadata": {},
   "outputs": [],
   "source": []
  },
  {
   "cell_type": "code",
   "execution_count": 125,
   "id": "c37d242d",
   "metadata": {},
   "outputs": [
    {
     "data": {
      "image/png": "[encoded data removed]",
      "text/plain": [
       "<Figure size 432x288 with 2 Axes>"
      ]
     },
     "metadata": {
      "needs_background": "light"
     },
     "output_type": "display_data"
    }
   ],
   "source": [
    "features =['duration_seconds','tags_rank']\n",
    "x_train = train_df[features] \n",
    "x_train.shape\n",
    "\n",
    "fig,ax = plt.subplots(1,2)\n",
    "\n",
    "sns.scatterplot(x=x_train['duration_seconds'], y=y_train,ax=ax[0])\n",
    "sns.scatterplot(x=x_train['tags_rank'], y=y_train,ax=ax[1])\n",
    "# sns.pairplot(data=x_train,x_vars=features, y_vars=y_train )\n",
    "plt.show()"
   ]
  },
  {
   "cell_type": "markdown",
   "id": "4ef435e5",
   "metadata": {},
   "source": [
    "## Train Extreme Gradient Boosted Model"
   ]
  },
  {
   "cell_type": "code",
   "execution_count": 77,
   "id": "4df45003",
   "metadata": {},
   "outputs": [],
   "source": [
    "import xgboost as xgb"
   ]
  },
  {
   "cell_type": "code",
   "execution_count": 115,
   "id": "f8c642bf",
   "metadata": {},
   "outputs": [
    {
     "data": {
      "text/html": [
       "<div>\n",
       "<style scoped>\n",
       "    .dataframe tbody tr th:only-of-type {\n",
       "        vertical-align: middle;\n",
       "    }\n",
       "\n",
       "    .dataframe tbody tr th {\n",
       "        vertical-align: top;\n",
       "    }\n",
       "\n",
       "    .dataframe thead th {\n",
       "        text-align: right;\n",
       "    }\n",
       "</style>\n",
       "<table border=\"1\" class=\"dataframe\">\n",
       "  <thead>\n",
       "    <tr style=\"text-align: right;\">\n",
       "      <th></th>\n",
       "      <th>id</th>\n",
       "      <th>target</th>\n",
       "    </tr>\n",
       "  </thead>\n",
       "  <tbody>\n",
       "    <tr>\n",
       "      <th>0</th>\n",
       "      <td>_wNsZEqpKUA_2021-12-01</td>\n",
       "      <td>0.053137</td>\n",
       "    </tr>\n",
       "    <tr>\n",
       "      <th>1</th>\n",
       "      <td>2jfbXZiE6Lc_2021-12-01</td>\n",
       "      <td>0.058267</td>\n",
       "    </tr>\n",
       "    <tr>\n",
       "      <th>2</th>\n",
       "      <td>F1Hq8eVOMHs_2021-12-01</td>\n",
       "      <td>0.058372</td>\n",
       "    </tr>\n",
       "    <tr>\n",
       "      <th>3</th>\n",
       "      <td>GQXVQmcGQUY_2021-12-01</td>\n",
       "      <td>0.047078</td>\n",
       "    </tr>\n",
       "    <tr>\n",
       "      <th>4</th>\n",
       "      <td>n4XojTb6pfs_2021-12-01</td>\n",
       "      <td>0.058122</td>\n",
       "    </tr>\n",
       "    <tr>\n",
       "      <th>...</th>\n",
       "      <td>...</td>\n",
       "      <td>...</td>\n",
       "    </tr>\n",
       "    <tr>\n",
       "      <th>5795</th>\n",
       "      <td>hJfpCXAMYPM_2021-12-30</td>\n",
       "      <td>0.059962</td>\n",
       "    </tr>\n",
       "    <tr>\n",
       "      <th>5796</th>\n",
       "      <td>MbmTMEYnEzo_2021-12-30</td>\n",
       "      <td>0.058470</td>\n",
       "    </tr>\n",
       "    <tr>\n",
       "      <th>5797</th>\n",
       "      <td>VG7arSAYvQI_2021-12-30</td>\n",
       "      <td>0.067113</td>\n",
       "    </tr>\n",
       "    <tr>\n",
       "      <th>5798</th>\n",
       "      <td>SNb-g-hNYYs_2021-12-30</td>\n",
       "      <td>0.067868</td>\n",
       "    </tr>\n",
       "    <tr>\n",
       "      <th>5799</th>\n",
       "      <td>_-K-sVn8Iko_2021-12-30</td>\n",
       "      <td>0.042170</td>\n",
       "    </tr>\n",
       "  </tbody>\n",
       "</table>\n",
       "<p>5800 rows × 2 columns</p>\n",
       "</div>"
      ],
      "text/plain": [
       "                          id    target\n",
       "0     _wNsZEqpKUA_2021-12-01  0.053137\n",
       "1     2jfbXZiE6Lc_2021-12-01  0.058267\n",
       "2     F1Hq8eVOMHs_2021-12-01  0.058372\n",
       "3     GQXVQmcGQUY_2021-12-01  0.047078\n",
       "4     n4XojTb6pfs_2021-12-01  0.058122\n",
       "...                      ...       ...\n",
       "5795  hJfpCXAMYPM_2021-12-30  0.059962\n",
       "5796  MbmTMEYnEzo_2021-12-30  0.058470\n",
       "5797  VG7arSAYvQI_2021-12-30  0.067113\n",
       "5798  SNb-g-hNYYs_2021-12-30  0.067868\n",
       "5799  _-K-sVn8Iko_2021-12-30  0.042170\n",
       "\n",
       "[5800 rows x 2 columns]"
      ]
     },
     "execution_count": 115,
     "metadata": {},
     "output_type": "execute_result"
    }
   ],
   "source": [
    "model= xgb.XGBRegressor()\n",
    "model.fit(x_train,y_train)\n",
    "\n",
    "model=model.predict(test_df[features])\n",
    "results=pd.DataFrame(model,columns=['target'])\n",
    "results\n",
    "ids=pd.DataFrame(test_df['id']).reset_index(drop = True)\n",
    "ids\n",
    "answer=pd.concat([ids,results],axis=1)\n",
    "\n",
    "answer.to_csv(\"predictions.csv\",index=False)\n",
    "answer"
   ]
  },
  {
   "cell_type": "code",
   "execution_count": null,
   "id": "6925492b",
   "metadata": {},
   "outputs": [],
   "source": []
  },
  {
   "cell_type": "code",
   "execution_count": null,
   "id": "432061a5",
   "metadata": {},
   "outputs": [],
   "source": []
  }
 ],
 "metadata": {
  "kernelspec": {
   "display_name": "Python 3 (ipykernel)",
   "language": "python",
   "name": "python3"
  },
  "language_info": {
   "codemirror_mode": {
    "name": "ipython",
    "version": 3
   },
   "file_extension": ".py",
   "mimetype": "text/x-python",
   "name": "python",
   "nbconvert_exporter": "python",
   "pygments_lexer": "ipython3",
   "version": "3.8.10"
  }
 },
 "nbformat": 4,
 "nbformat_minor": 5
}
